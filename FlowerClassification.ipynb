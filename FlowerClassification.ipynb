{
  "nbformat": 4,
  "nbformat_minor": 0,
  "metadata": {
    "colab": {
      "name": "FlowerClassification.ipynb",
      "provenance": [],
      "collapsed_sections": [],
      "mount_file_id": "1OGmdOS-_-SNlFmSaCYhZyw1C-oDBrJYY",
      "authorship_tag": "ABX9TyN2g+dMFv9r2SQqMfNJRPJZ",
      "include_colab_link": true
    },
    "kernelspec": {
      "name": "python3",
      "display_name": "Python 3"
    },
    "language_info": {
      "name": "python"
    },
    "accelerator": "GPU"
  },
  "cells": [
    {
      "cell_type": "markdown",
      "metadata": {
        "id": "view-in-github",
        "colab_type": "text"
      },
      "source": [
        "<a href=\"https://colab.research.google.com/github/Ardavic/FlowerClassification/blob/main/FlowerClassification.ipynb\" target=\"_parent\"><img src=\"https://colab.research.google.com/assets/colab-badge.svg\" alt=\"Open In Colab\"/></a>"
      ]
    },
    {
      "cell_type": "code",
      "metadata": {
        "colab": {
          "base_uri": "https://localhost:8080/"
        },
        "id": "T2yZRLSqxS5i",
        "outputId": "482d1430-9f09-411e-b1aa-325f55be42eb"
      },
      "source": [
        "from google.colab import drive\n",
        "\n",
        "drive.mount('/content/gdrive')"
      ],
      "execution_count": 4,
      "outputs": [
        {
          "output_type": "stream",
          "text": [
            "Drive already mounted at /content/gdrive; to attempt to forcibly remount, call drive.mount(\"/content/gdrive\", force_remount=True).\n"
          ],
          "name": "stdout"
        }
      ]
    },
    {
      "cell_type": "code",
      "metadata": {
        "id": "NCUGUJ_I6Sz1"
      },
      "source": [
        "!unzip gdrive/MyDrive/AI/Dataset/flowers.zip > /dev/null"
      ],
      "execution_count": 6,
      "outputs": []
    },
    {
      "cell_type": "code",
      "metadata": {
        "id": "dqMuw4jb2voy"
      },
      "source": [
        "import numpy as np\n",
        "import pandas as pd\n",
        "from PIL import Image\n",
        "import os \n",
        "from sklearn.utils import shuffle\n",
        "from numpy import save\n",
        "from torch.nn.modules import pooling\n",
        "from torch.nn.modules.batchnorm import BatchNorm2d\n",
        "from torch.nn.modules.linear import Linear\n",
        "from torch.utils import data\n",
        "import torch\n",
        "from torch.utils.data import TensorDataset\n",
        "from torch.utils.data import DataLoader\n",
        "import torch.nn as nn\n",
        "from torch.optim import Adam\n",
        "import matplotlib.pyplot as plt\n",
        "from numpy import load"
      ],
      "execution_count": 2,
      "outputs": []
    },
    {
      "cell_type": "code",
      "metadata": {
        "id": "bY5IccD029C2"
      },
      "source": [
        "def iterate_thr_data():\n",
        "    \n",
        "  images_as_arrays = []\n",
        "  names_as_integers = []\n",
        "\n",
        "  for type_i, file_name in enumerate(os.listdir('flowers')):\n",
        "    if file_name != '.ipynb_checkpoints':\n",
        "      \n",
        "      for element in os.listdir(f'flowers/{file_name}'):\n",
        "        image = Image.open(f'flowers/{file_name}/{element}')\n",
        "        resized = image.resize((256, 256))\n",
        "        np_image = np.array(resized)\n",
        "        np_image = np.transpose(np_image,(2, 0, 1))\n",
        "\n",
        "        images_as_arrays.append(np_image)\n",
        "        names_as_integers.append(type_i)\n",
        "      print(f'Done with: {file_name}s')\n",
        "     \n",
        "  images = np.stack(images_as_arrays, axis=0)\n",
        "  labels = np.array(names_as_integers)\n",
        "  images, labels = shuffle(images, labels)\n",
        "  \n",
        "  save('images.npy', images)\n",
        "  save('labels.npy', labels)\n",
        "  \n",
        "   #return images, labels"
      ],
      "execution_count": 3,
      "outputs": []
    },
    {
      "cell_type": "code",
      "metadata": {
        "id": "xoTlJYgsEEOs"
      },
      "source": [
        "os.remove('flowers/dandelion/flickr.pyc')"
      ],
      "execution_count": 31,
      "outputs": []
    },
    {
      "cell_type": "code",
      "metadata": {
        "colab": {
          "base_uri": "https://localhost:8080/"
        },
        "id": "rACKr30W84gl",
        "outputId": "65cb8c54-51d8-4e6b-e365-9ee1f94c4c76"
      },
      "source": [
        "iterate_thr_data()"
      ],
      "execution_count": 35,
      "outputs": [
        {
          "output_type": "stream",
          "text": [
            "Done with: dandelions\n",
            "Done with: tulips\n",
            "Done with: roses\n",
            "Done with: sunflowers\n",
            "Done with: daisys\n"
          ],
          "name": "stdout"
        }
      ]
    },
    {
      "cell_type": "code",
      "metadata": {
        "id": "nJkLQhkL3uHZ"
      },
      "source": [
        "def array_to_loader(x, y, train_size, batch_size):\n",
        "  \n",
        "  x_train, x_test = torch.FloatTensor(x[:train_size, :,:,:]), torch.FloatTensor(x[train_size:, :,:,:])\n",
        "  y_train, y_test = torch.LongTensor(y[:train_size,]) , torch.LongTensor(y[train_size:,])\n",
        "\n",
        "  train_ds = TensorDataset(x_train, y_train)\n",
        "  test_ds = TensorDataset(x_test, y_test)\n",
        "\n",
        "  train_loader = DataLoader(train_ds,batch_size=batch_size,shuffle=True)\n",
        "  test_loader = DataLoader(test_ds, batch_size=batch_size)\n",
        "\n",
        "  return train_loader, test_loader"
      ],
      "execution_count": 4,
      "outputs": []
    },
    {
      "cell_type": "code",
      "metadata": {
        "id": "13MUTMw43zbK"
      },
      "source": [
        "def build_network():\n",
        "    \n",
        "  return nn.Sequential(\n",
        "        \n",
        "    nn.Conv2d(3, 6, 3, stride=2, padding=1), #128x128x6\n",
        "    nn.BatchNorm2d(6),\n",
        "    nn.ReLU(),\n",
        "    nn.MaxPool2d(2, 2),  #64x64x6\n",
        "\n",
        "    nn.Conv2d(6,6, 5,stride=2, padding=0), #30x30x6\n",
        "    nn.BatchNorm2d(6),\n",
        "    nn.ReLU(),\n",
        "    nn.MaxPool2d(2,2), #15x15x6\n",
        "\n",
        "    nn.Conv2d(6,6, 3, stride=1, padding=1), #14x14x6\n",
        "    nn.BatchNorm2d(6),\n",
        "    nn.ReLU(),\n",
        "    nn.MaxPool2d(2,2), #7x7x6\n",
        "\n",
        "    nn.Flatten(),\n",
        "\n",
        "    nn.Dropout(p = 0.2),\n",
        "    nn.Linear(294, 64),\n",
        "    nn.BatchNorm1d(64),\n",
        "    nn.ReLU(),\n",
        "\n",
        "    nn.Linear(64, 6),\n",
        "    nn.Softmax(dim=1)\n",
        "\n",
        "    )"
      ],
      "execution_count": 5,
      "outputs": []
    },
    {
      "cell_type": "code",
      "metadata": {
        "id": "fy4UW0Wu4Myj"
      },
      "source": [
        "def accuracy_for_softmax(output_tensor, target_tensor):\n",
        "\n",
        "  pred = torch.max(output_tensor, 1)[1]\n",
        "  \n",
        "  acc = torch.eq(pred, target_tensor).sum().item() / target_tensor.size()[0]\n",
        "  return acc"
      ],
      "execution_count": 6,
      "outputs": []
    },
    {
      "cell_type": "code",
      "metadata": {
        "id": "UNOTj8qS4QOu"
      },
      "source": [
        "def loss_and_acc(batch_i, mean_loss, mean_acc, loss, acc):\n",
        "    \n",
        "  new_loss = ( (batch_i * mean_loss) + loss.item() ) / (batch_i + 1)\n",
        "  new_acc = ( (batch_i * mean_acc) + acc ) / (batch_i + 1)\n",
        "\n",
        "  return new_loss, new_acc"
      ],
      "execution_count": 7,
      "outputs": []
    },
    {
      "cell_type": "code",
      "metadata": {
        "id": "nT9nlhaV4VQZ"
      },
      "source": [
        "def trainer(train_loader, model, optimizer, criteration):\n",
        "    \n",
        "  train_loss, train_acc = 0, 0,\n",
        "\n",
        "  for batch_i, (x_train, y_train) in enumerate(train_loader):\n",
        "      \n",
        "    optimizer.zero_grad()\n",
        "\n",
        "    output = model(x_train)\n",
        "\n",
        "    loss = criteration(output, y_train)\n",
        "    loss.backward()\n",
        "\n",
        "    optimizer.step()\n",
        "\n",
        "    acc = accuracy_for_softmax(output, y_train)\n",
        "    \n",
        "    train_loss, train_acc = loss_and_acc(batch_i, train_loss, train_acc, loss, acc)\n",
        "\n",
        "  return train_loss, train_acc"
      ],
      "execution_count": 8,
      "outputs": []
    },
    {
      "cell_type": "code",
      "metadata": {
        "id": "mEZ0sK994cfA"
      },
      "source": [
        "def tester(test_loader, model, criteration):\n",
        "  \n",
        "  test_loss, test_acc = 0, 0\n",
        "\n",
        "  for batch_i, (x_test, y_test) in enumerate(test_loader):\n",
        "\n",
        "    with torch.no_grad():\n",
        "        output = model(x_test)\n",
        "    \n",
        "    loss = criteration(output, y_test)\n",
        "    acc = accuracy_for_softmax(output, y_test)\n",
        "\n",
        "    test_loss, test_acc = loss_and_acc(batch_i, test_loss, test_acc, loss, acc)\n",
        "  \n",
        "  return test_loss, test_acc"
      ],
      "execution_count": 11,
      "outputs": []
    },
    {
      "cell_type": "code",
      "metadata": {
        "id": "Q4hf3v0F4jgd"
      },
      "source": [
        "def main():\n",
        "\n",
        "  TRAIN_SIZE = 4000\n",
        "  BATCH_SIZE = 32\n",
        "  EPOCHS = 20\n",
        "\n",
        "  images = load('images.npy')\n",
        "  labels = load('labels.npy')\n",
        "\n",
        "  train_loader, test_loader = array_to_loader(images, labels, TRAIN_SIZE, BATCH_SIZE)\n",
        "\n",
        "  model = build_network()\n",
        "  optimizer = Adam(model.parameters())\n",
        "  criteration = nn.CrossEntropyLoss()\n",
        "  \n",
        "\n",
        "  train_losses, train_accs = [], []\n",
        "  test_losses, test_accs = [], []\n",
        "\n",
        "  for EPOCH in range(EPOCHS):\n",
        "\n",
        "    train_loss, train_acc = trainer(train_loader, model, optimizer, criteration)\n",
        "    train_losses.append(train_loss)\n",
        "    train_accs.append(train_acc)\n",
        "\n",
        "    test_loss , test_acc = tester(test_loader, model, criteration)\n",
        "    test_losses.append(test_loss)\n",
        "    test_accs.append(test_acc)\n",
        "\n",
        "    print(f'Epoch:--{EPOCH}-- TrainLoss: {train_loss} TrainAccuracy: {train_acc} TestLoss: {test_loss} TestAccuracy: {test_acc}')\n",
        "\n",
        "  plt.figure()\n",
        "  plt.plot(train_losses)\n",
        "  plt.plot(test_losses)\n",
        "  plt.legend([\"TrainLoss\", \"TestLoss\"])\n",
        "  plt.savefig('losses')\n",
        "\n",
        "  plt.figure()\n",
        "  plt.plot(train_accs)\n",
        "  plt.plot(test_accs)\n",
        "  plt.legend([\"TrainAccuracy\", \"TestAccuracy\"])\n",
        "  plt.savefig('accuracies')\n"
      ],
      "execution_count": 12,
      "outputs": []
    },
    {
      "cell_type": "code",
      "metadata": {
        "colab": {
          "base_uri": "https://localhost:8080/",
          "height": 868
        },
        "id": "TX_h3ewIE-rI",
        "outputId": "08b4cdf2-906a-41c0-ad73-4b9164d7f676"
      },
      "source": [
        "main()"
      ],
      "execution_count": 13,
      "outputs": [
        {
          "output_type": "stream",
          "text": [
            "Epoch:--0-- TrainLoss: 1.6069804077148437 TrainAccuracy: 0.4625 TestLoss: 1.536398540843617 TestAccuracy: 0.524621212121212\n",
            "Epoch:--1-- TrainLoss: 1.4809340791702272 TrainAccuracy: 0.5884999999999999 TestLoss: 1.4706605672836304 TestAccuracy: 0.5757575757575757\n",
            "Epoch:--2-- TrainLoss: 1.427092670440674 TrainAccuracy: 0.6330000000000002 TestLoss: 1.4755866744301536 TestAccuracy: 0.5473484848484849\n",
            "Epoch:--3-- TrainLoss: 1.408834836959839 TrainAccuracy: 0.6395000000000001 TestLoss: 1.4524678967215798 TestAccuracy: 0.6089015151515151\n",
            "Epoch:--4-- TrainLoss: 1.3876413116455077 TrainAccuracy: 0.6594999999999998 TestLoss: 1.4436432339928367 TestAccuracy: 0.587121212121212\n",
            "Epoch:--5-- TrainLoss: 1.3793709096908573 TrainAccuracy: 0.67075 TestLoss: 1.4308244640176946 TestAccuracy: 0.5984848484848485\n",
            "Epoch:--6-- TrainLoss: 1.3640465974807734 TrainAccuracy: 0.6829999999999997 TestLoss: 1.4469555074518377 TestAccuracy: 0.5928030303030303\n",
            "Epoch:--7-- TrainLoss: 1.3501261320114135 TrainAccuracy: 0.6950000000000001 TestLoss: 1.4173848303881558 TestAccuracy: 0.6174242424242424\n",
            "Epoch:--8-- TrainLoss: 1.3428615913391113 TrainAccuracy: 0.709 TestLoss: 1.414910305630077 TestAccuracy: 0.631628787878788\n",
            "Epoch:--9-- TrainLoss: 1.3393964834213257 TrainAccuracy: 0.7057500000000002 TestLoss: 1.4158550175753506 TestAccuracy: 0.631628787878788\n",
            "Epoch:--10-- TrainLoss: 1.3340963029861448 TrainAccuracy: 0.7142500000000003 TestLoss: 1.4181345809589734 TestAccuracy: 0.6287878787878788\n",
            "Epoch:--11-- TrainLoss: 1.3322569513320919 TrainAccuracy: 0.7154999999999999 TestLoss: 1.4046607667749578 TestAccuracy: 0.6543560606060607\n",
            "Epoch:--12-- TrainLoss: 1.3157611875534052 TrainAccuracy: 0.736 TestLoss: 1.4258546504107388 TestAccuracy: 0.5956439393939393\n",
            "Epoch:--13-- TrainLoss: 1.318230135917664 TrainAccuracy: 0.7262499999999998 TestLoss: 1.4344454678622158 TestAccuracy: 0.5984848484848485\n",
            "Epoch:--14-- TrainLoss: 1.3161196165084839 TrainAccuracy: 0.73075 TestLoss: 1.411685824394226 TestAccuracy: 0.6126893939393939\n",
            "Epoch:--15-- TrainLoss: 1.3091232051849362 TrainAccuracy: 0.7362500000000002 TestLoss: 1.427896337075667 TestAccuracy: 0.6174242424242424\n",
            "Epoch:--16-- TrainLoss: 1.3010493383407593 TrainAccuracy: 0.74925 TestLoss: 1.4317755048925227 TestAccuracy: 0.6098484848484849\n",
            "Epoch:--17-- TrainLoss: 1.3051858911514287 TrainAccuracy: 0.74075 TestLoss: 1.4144091281023892 TestAccuracy: 0.631628787878788\n",
            "Epoch:--18-- TrainLoss: 1.3000729894638061 TrainAccuracy: 0.7512499999999998 TestLoss: 1.4235378828915684 TestAccuracy: 0.6401515151515151\n",
            "Epoch:--19-- TrainLoss: 1.2962897930145258 TrainAccuracy: 0.749 TestLoss: 1.4097876440395007 TestAccuracy: 0.6268939393939393\n"
          ],
          "name": "stdout"
        },
        {
          "output_type": "display_data",
          "data": {
            "image/png": "[encoded data removed]",
            "text/plain": [
              "<Figure size 432x288 with 1 Axes>"
            ]
          },
          "metadata": {
            "tags": [],
            "needs_background": "light"
          }
        },
        {
          "output_type": "display_data",
          "data": {
            "image/png": "[encoded data removed]",
            "text/plain": [
              "<Figure size 432x288 with 1 Axes>"
            ]
          },
          "metadata": {
            "tags": [],
            "needs_background": "light"
          }
        }
      ]
    }
  ]
}